{
 "cells": [
  {
   "cell_type": "code",
   "execution_count": 1,
   "metadata": {},
   "outputs": [
    {
     "name": "stdout",
     "output_type": "stream",
     "text": [
      "Populating the interactive namespace from numpy and matplotlib\n"
     ]
    }
   ],
   "source": [
    "from pandas import Series, DataFrame\n",
    "import pandas as pd\n",
    "%pylab inline"
   ]
  },
  {
   "cell_type": "code",
   "execution_count": 2,
   "metadata": {},
   "outputs": [],
   "source": [
    "df = pd.read_csv('NYC_Restaurants.csv', dtype=unicode) #read in data"
   ]
  },
  {
   "cell_type": "code",
   "execution_count": 3,
   "metadata": {},
   "outputs": [
    {
     "data": {
      "text/plain": [
       "array(['Unnamed: 0', 'CAMIS', 'DBA', 'BORO', 'BUILDING', 'STREET',\n",
       "       'ZIPCODE', 'PHONE', 'CUISINE DESCRIPTION', 'INSPECTION DATE',\n",
       "       'ACTION', 'VIOLATION CODE', 'VIOLATION DESCRIPTION',\n",
       "       'CRITICAL FLAG', 'SCORE', 'GRADE', 'GRADE DATE', 'RECORD DATE',\n",
       "       'INSPECTION TYPE'], dtype=object)"
      ]
     },
     "execution_count": 3,
     "metadata": {},
     "output_type": "execute_result"
    }
   ],
   "source": [
    "df.columns.values #print out all column names of original data"
   ]
  },
  {
   "cell_type": "markdown",
   "metadata": {},
   "source": [
    "### Question 1 "
   ]
  },
  {
   "cell_type": "code",
   "execution_count": 4,
   "metadata": {},
   "outputs": [
    {
     "data": {
      "text/plain": [
       "0                    WENDY'S 469 FLATBUSH AVENUE 11225\n",
       "1                    WENDY'S 469 FLATBUSH AVENUE 11225\n",
       "2                    WENDY'S 469 FLATBUSH AVENUE 11225\n",
       "3                    WENDY'S 469 FLATBUSH AVENUE 11225\n",
       "4                    WENDY'S 469 FLATBUSH AVENUE 11225\n",
       "5               TOV KOSHER KITCHEN 97-22 63 ROAD 11374\n",
       "6               TOV KOSHER KITCHEN 97-22 63 ROAD 11374\n",
       "7               TOV KOSHER KITCHEN 97-22 63 ROAD 11374\n",
       "8               TOV KOSHER KITCHEN 97-22 63 ROAD 11374\n",
       "9    BRUNOS ON THE BOULEVARD 8825 ASTORIA BOULEVARD...\n",
       "Name: RESTAURANTS, dtype: object"
      ]
     },
     "execution_count": 4,
     "metadata": {},
     "output_type": "execute_result"
    }
   ],
   "source": [
    "#df['RESTAURANTS'] = df[['DBA', 'BUILDING', 'STREET', 'ZIPCODE']].apply(lambda x: ' '.join(x), axis =1)\n",
    "#df['RESTAURANTS']\n",
    "\n",
    "#joins 4 columns together for the restaurants columns and prints out first 10\n",
    "df['RESTAURANTS'] = df['DBA'] + ' ' + df['BUILDING'].map(str) + ' ' + df['STREET'] + ' '+ df['ZIPCODE'].map(str)\n",
    "df['RESTAURANTS'][0:10]"
   ]
  },
  {
   "cell_type": "markdown",
   "metadata": {},
   "source": [
    "### Question 2"
   ]
  },
  {
   "cell_type": "code",
   "execution_count": 5,
   "metadata": {},
   "outputs": [
    {
     "data": {
      "text/plain": [
       "10114"
      ]
     },
     "execution_count": 5,
     "metadata": {},
     "output_type": "execute_result"
    }
   ],
   "source": [
    "#counts all unique restaurants in data\n",
    "len(df['RESTAURANTS'].unique()) "
   ]
  },
  {
   "cell_type": "markdown",
   "metadata": {},
   "source": [
    "### Question 3"
   ]
  },
  {
   "cell_type": "code",
   "execution_count": 6,
   "metadata": {},
   "outputs": [
    {
     "data": {
      "text/plain": [
       "368"
      ]
     },
     "execution_count": 6,
     "metadata": {},
     "output_type": "execute_result"
    }
   ],
   "source": [
    "#counts how many chains there are\n",
    "unique_df = df.drop_duplicates(['DBA','RESTAURANTS']) #df of all the unique restaurants including different locations \n",
    "mask = (unique_df['DBA'].value_counts() > 1) #lists all the unique names of rest. and their counts of how many there are\n",
    "sum(mask) #sums up the True values and gives me the counts the number of rest. that are chains\n"
   ]
  },
  {
   "cell_type": "markdown",
   "metadata": {},
   "source": [
    "### Question 4"
   ]
  },
  {
   "cell_type": "code",
   "execution_count": 7,
   "metadata": {},
   "outputs": [
    {
     "data": {
      "text/plain": [
       "<matplotlib.axes._subplots.AxesSubplot at 0xadd4518>"
      ]
     },
     "execution_count": 7,
     "metadata": {},
     "output_type": "execute_result"
    },
    {
     "data": {
      "image/png": "[encoded data removed]",
      "text/plain": [
       "<Figure size 432x288 with 1 Axes>"
      ]
     },
     "metadata": {},
     "output_type": "display_data"
    }
   ],
   "source": [
    "#prints the top 20 popular chains\n",
    "unique_df['DBA'].value_counts()[0:20].plot(kind='bar')"
   ]
  },
  {
   "cell_type": "markdown",
   "metadata": {},
   "source": [
    "### Question 5"
   ]
  },
  {
   "cell_type": "code",
   "execution_count": 8,
   "metadata": {},
   "outputs": [
    {
     "data": {
      "text/plain": [
       "0.16472216729286138"
      ]
     },
     "execution_count": 8,
     "metadata": {},
     "output_type": "execute_result"
    }
   ],
   "source": [
    "#calculates fraction of all unique restaurants that are chains\n",
    "vcount_chain = unique_df['DBA'].value_counts() #number of restaurants for all restaurants\n",
    "chains_rest = sum(vcount_chain[vcount_chain > 1 ]) #finds which ones are chains\n",
    "float((chains_rest))/len(unique_df) #number of all the restaurants that are chains (includes multiples)/number of all restaurants"
   ]
  },
  {
   "cell_type": "markdown",
   "metadata": {},
   "source": [
    "### Question 6"
   ]
  },
  {
   "cell_type": "code",
   "execution_count": 9,
   "metadata": {},
   "outputs": [
    {
     "name": "stderr",
     "output_type": "stream",
     "text": [
      "C:\\Users\\phatp\\Anaconda2\\lib\\site-packages\\ipykernel_launcher.py:5: UserWarning: Boolean Series key will be reindexed to match DataFrame index.\n",
      "  \"\"\"\n"
     ]
    },
    {
     "data": {
      "text/plain": [
       "<matplotlib.axes._subplots.AxesSubplot at 0xa8d9358>"
      ]
     },
     "execution_count": 9,
     "metadata": {},
     "output_type": "execute_result"
    },
    {
     "data": {
      "image/png": "[encoded data removed]",
      "text/plain": [
       "<Figure size 432x288 with 1 Axes>"
      ]
     },
     "metadata": {},
     "output_type": "display_data"
    }
   ],
   "source": [
    "#Plot the number of non-chain restaurants in each borp\n",
    "mask2 = mask[mask == False] #mask2 gives the restaurants that are not chains\n",
    "nonchain_list = mask2.keys().values.tolist() #list of the names of the nonchain restaurants\n",
    "non_chain_df = unique_df[unique_df['DBA'].isin(nonchain_list)] #creates dataframe of those non-chain restaurants\n",
    "non_chain_df = non_chain_df[unique_df['BORO'] !=\"Missing\"] #returns only rows that don't have missing in boro\n",
    "non_chain_df.groupby(['BORO']).size().plot(kind=\"bar\") #plots non-chain restaurant counts by boro\n"
   ]
  },
  {
   "cell_type": "markdown",
   "metadata": {},
   "source": [
    "### Question 7"
   ]
  },
  {
   "cell_type": "code",
   "execution_count": 10,
   "metadata": {},
   "outputs": [
    {
     "data": {
      "text/plain": [
       "<matplotlib.axes._subplots.AxesSubplot at 0xefa03c8>"
      ]
     },
     "execution_count": 10,
     "metadata": {},
     "output_type": "execute_result"
    },
    {
     "data": {
      "image/png": "[encoded data removed]",
      "text/plain": [
       "<Figure size 432x288 with 1 Axes>"
      ]
     },
     "metadata": {},
     "output_type": "display_data"
    }
   ],
   "source": [
    "#Plot the fraction of non-chain restaurants in each boro\n",
    "non_chain_boro = non_chain_df.groupby(['BORO']).size() #counts of the non-chain rest. in each boro\n",
    "all_rest_boro  = (unique_df[unique_df['BORO'] !=\"Missing\"].groupby(['BORO']).size()) #counts of all rest. in each boro\n",
    "(non_chain_boro/all_rest_boro).plot(kind='bar') #divide and plot\n"
   ]
  },
  {
   "cell_type": "markdown",
   "metadata": {},
   "source": [
    "No, the highest number of independent restaurants is in Manhattan but the highest ratio in Brooklyn."
   ]
  },
  {
   "cell_type": "markdown",
   "metadata": {},
   "source": [
    "### Question 8"
   ]
  },
  {
   "cell_type": "code",
   "execution_count": 11,
   "metadata": {},
   "outputs": [
    {
     "data": {
      "text/plain": [
       "<matplotlib.axes._subplots.AxesSubplot at 0xed15d30>"
      ]
     },
     "execution_count": 11,
     "metadata": {},
     "output_type": "execute_result"
    },
    {
     "data": {
      "image/png": "[encoded data removed]",
      "text/plain": [
       "<Figure size 432x288 with 1 Axes>"
      ]
     },
     "metadata": {},
     "output_type": "display_data"
    }
   ],
   "source": [
    "#Plot the popularity of cuisines\n",
    "unique_df['CUISINE DESCRIPTION'].value_counts()[0:20].plot(kind=\"bar\")\n"
   ]
  },
  {
   "cell_type": "markdown",
   "metadata": {},
   "source": [
    "### Question 9"
   ]
  },
  {
   "cell_type": "code",
   "execution_count": 12,
   "metadata": {},
   "outputs": [
    {
     "data": {
      "text/plain": [
       "<matplotlib.axes._subplots.AxesSubplot at 0xa29c470>"
      ]
     },
     "execution_count": 12,
     "metadata": {},
     "output_type": "execute_result"
    },
    {
     "data": {
      "image/png": "[encoded data removed]",
      "text/plain": [
       "<Figure size 432x288 with 1 Axes>"
      ]
     },
     "metadata": {},
     "output_type": "display_data"
    }
   ],
   "source": [
    "#Plot the cuisines among restaurants which never got cited for violations\n",
    "no_viol =pd.crosstab( df[\"RESTAURANTS\"],df[\"VIOLATION CODE\"].isnull()) #finds all rests. that received at least one no violation\n",
    "b = no_viol[no_viol[0]==0] #find all restaurants with no actual violations\n",
    "c = b[b[1] > 0] #find all rest. where received at least one no violation (this is redundant - line probably not needed)\n",
    "d = c.index.tolist() #converts the names to a list\n",
    "clean_df = unique_df[unique_df[\"RESTAURANTS\"].isin(d)] #creates a dataframe of those names\n",
    "clean_df['CUISINE DESCRIPTION'].value_counts()[0:20].plot(kind=\"bar\") #prints out the value counts of the cuisine"
   ]
  },
  {
   "cell_type": "markdown",
   "metadata": {},
   "source": [
    "### Question 10"
   ]
  },
  {
   "cell_type": "code",
   "execution_count": 13,
   "metadata": {},
   "outputs": [
    {
     "name": "stderr",
     "output_type": "stream",
     "text": [
      "C:\\Users\\phatp\\Anaconda2\\lib\\site-packages\\ipykernel_launcher.py:13: FutureWarning: set_value is deprecated and will be removed in a future release. Please use .at[] or .iat[] accessors instead\n",
      "  del sys.path[0]\n",
      "C:\\Users\\phatp\\Anaconda2\\lib\\site-packages\\ipykernel_launcher.py:15: FutureWarning: set_value is deprecated and will be removed in a future release. Please use .at[] or .iat[] accessors instead\n",
      "  from ipykernel import kernelapp as app\n"
     ]
    },
    {
     "data": {
      "text/plain": [
       "Soul Food                        0.090909\n",
       "Vietnamese/Cambodian/Malaysia    0.062500\n",
       "Other                            0.058252\n",
       "Barbecue                         0.047619\n",
       "Continental                      0.047619\n",
       "Soups & Sandwiches               0.047619\n",
       "Asian                            0.041096\n",
       "Chinese                          0.038251\n",
       "Greek                            0.036364\n",
       "Peruvian                         0.035714\n",
       "dtype: float64"
      ]
     },
     "execution_count": 13,
     "metadata": {},
     "output_type": "execute_result"
    }
   ],
   "source": [
    "#What cuisines tend to be the “cleanest”?\n",
    "\n",
    "cuisines_20 = (unique_df['CUISINE DESCRIPTION'].value_counts() > 19) #Select all cuisines for which there were at least 20 restaurants representing that cuisine.\n",
    "cuisines_20 = cuisines_20[cuisines_20 == True] #series of cuisines that have have at least 20 restaurants\n",
    "c_list = cuisines_20.index.tolist() #convert names of the rest to a list\n",
    "\n",
    "clean_series = clean_df['CUISINE DESCRIPTION'].value_counts() #number of restaurants that are clean, grouped by cuisine\n",
    "all_cuisine = unique_df['CUISINE DESCRIPTION'].value_counts() #all restaurants of the cuisines\n",
    "\n",
    "x = pd.Series() #create new series\n",
    "for i in c_list: #for each name in the cuisines_20 list\n",
    "        if i in clean_series.keys(): #if the name is also in the clean list...\n",
    "            x.set_value(i, float(clean_series[i])/all_cuisine[i]) #compute Q9/Q8\n",
    "        else: #if not in the clean list...\n",
    "            x.set_value(i, 0) #set fraction = 0\n",
    "x.sort_values(ascending = False)[0:10]"
   ]
  },
  {
   "cell_type": "markdown",
   "metadata": {},
   "source": [
    "### Question 11"
   ]
  },
  {
   "cell_type": "code",
   "execution_count": 14,
   "metadata": {},
   "outputs": [
    {
     "data": {
      "text/plain": [
       "BORO\n",
       "BRONX            Non-food contact surface improperly constructe...\n",
       "BROOKLYN         Non-food contact surface improperly constructe...\n",
       "MANHATTAN        Non-food contact surface improperly constructe...\n",
       "QUEENS           Non-food contact surface improperly constructe...\n",
       "STATEN ISLAND    Non-food contact surface improperly constructe...\n",
       "dtype: object"
      ]
     },
     "execution_count": 14,
     "metadata": {},
     "output_type": "execute_result"
    }
   ],
   "source": [
    "#What are the most common violations in each borough?\n",
    "\n",
    "df = df.replace(\"Missing\",np.nan) #replace missing values with null\n",
    "boro_viol = pd.crosstab(df[\"VIOLATION DESCRIPTION\"], df[\"BORO\"]) #cross table showing counts of each violation in each boro\n",
    "boro_viol.idxmax() #most common violations in each boro"
   ]
  },
  {
   "cell_type": "markdown",
   "metadata": {},
   "source": [
    "### Question 12"
   ]
  },
  {
   "cell_type": "code",
   "execution_count": 15,
   "metadata": {},
   "outputs": [
    {
     "data": {
      "text/plain": [
       "BORO\n",
       "BRONX                                  Unprotected food re-served.\n",
       "BROOKLYN         Precooked potentially hazardous food from comm...\n",
       "MANHATTAN        Out-of package sale of tobacco products observed.\n",
       "QUEENS           Caloric content range (minimum to maximum) not...\n",
       "STATEN ISLAND    Eggs found dirty/cracked; liquid, frozen or po...\n",
       "dtype: object"
      ]
     },
     "execution_count": 15,
     "metadata": {},
     "output_type": "execute_result"
    }
   ],
   "source": [
    "#What are the most common violations per borough, after normalizing for the relative abundance of each violation?\n",
    "\n",
    "violationFrequency = df[\"VIOLATION DESCRIPTION\"].value_counts() #violation frequency of all violations from original data\n",
    "\n",
    "normalize = boro_viol.apply(lambda x: x/violationFrequency) #divide the viol freq per boro by the overall freq of the violation\n",
    "\n",
    "normalize.idxmax() #find the most common violation after normalizing"
   ]
  },
  {
   "cell_type": "markdown",
   "metadata": {},
   "source": [
    "### Question 13"
   ]
  },
  {
   "cell_type": "code",
   "execution_count": 16,
   "metadata": {},
   "outputs": [
    {
     "data": {
      "text/plain": [
       "34"
      ]
     },
     "execution_count": 16,
     "metadata": {},
     "output_type": "execute_result"
    }
   ],
   "source": [
    "#How many phone area codes correspond to a single zipcode?\n",
    "\n",
    "unique_df[\"AREA_CODE\"] = unique_df[\"PHONE\"].str[0:3] #extract first 3 numbers from phone and make area code column\n",
    "area_zip = unique_df[['AREA_CODE', 'ZIPCODE']].drop_duplicates(['AREA_CODE', 'ZIPCODE']) #drop rows of same areacode and zip.\n",
    "# This keeps one of each number correlating to zip\n",
    "\n",
    "one_zip = area_zip['AREA_CODE'].value_counts() == 1 #find where an area code only relates to one zip\n",
    "one_zip = one_zip[one_zip==True]\n",
    "len(one_zip) #print length"
   ]
  },
  {
   "cell_type": "markdown",
   "metadata": {},
   "source": [
    "### Question 14"
   ]
  },
  {
   "cell_type": "code",
   "execution_count": 17,
   "metadata": {},
   "outputs": [
    {
     "data": {
      "text/plain": [
       "STREET TYPE_y\n",
       "AVE            AVENUE\n",
       "ST             STREET\n",
       "RD               ROAD\n",
       "PL              PLACE\n",
       "BOULEARD    BOULEVARD\n",
       "BULEVARD    BOULEVARD\n",
       "dtype: object"
      ]
     },
     "execution_count": 17,
     "metadata": {},
     "output_type": "execute_result"
    }
   ],
   "source": [
    "#Find common misspellings of street names\n",
    "\n",
    "unique_df['STREET TYPE'] = unique_df[\"STREET\"].map(lambda x: x.split()[-1]) #get last word of street\n",
    "unique_df['STREET BASE'] = unique_df[\"STREET\"].map(lambda x: \" \".join(x.split()[:-1])) #get rest of street\n",
    "unique_df[\"STREET BASE & ZIP\"] = unique_df[\"STREET BASE\"] + \" \" + unique_df[\"ZIPCODE\"]  #combine 2 columns to form 3rd\n",
    "street_zip_df = unique_df[['STREET TYPE', 'STREET BASE',\"STREET BASE & ZIP\" ]] #create table of the 3 columns\n",
    "street_zip_df = street_zip_df.replace(\"\", np.nan) #replace missing values with null\n",
    "street_zip_df[street_zip_df[\"STREET BASE\"].notnull()] #retrieve all rows where street base is not null\n",
    "\n",
    "#merge the table with itself on street base & zip\n",
    "street_zip_df_merge = street_zip_df.merge(street_zip_df, \n",
    "                                          left_on= 'STREET BASE & ZIP',\n",
    "                                         right_on = 'STREET BASE & ZIP')\n",
    "\n",
    "mask = (street_zip_df_merge['STREET TYPE_x'] != street_zip_df_merge['STREET TYPE_y']) #create a mask of getting rows where street types are not equal\n",
    "street_zip_df_merge =street_zip_df_merge[mask] #retrieve rows\n",
    "street_type_cross = pd.crosstab(street_zip_df_merge['STREET TYPE_x'], street_zip_df_merge['STREET TYPE_y']) #cross table of the different street types on the same base\n",
    "stc_sub = street_type_cross[['AVE','ST','RD','PL','BOULEARD','BULEVARD']] #subset the table for specific columns\n",
    "stc_sub.idxmax() #print most common per type"
   ]
  },
  {
   "cell_type": "code",
   "execution_count": null,
   "metadata": {},
   "outputs": [],
   "source": []
  }
 ],
 "metadata": {
  "kernelspec": {
   "display_name": "Python 2",
   "language": "python",
   "name": "python2"
  },
  "language_info": {
   "codemirror_mode": {
    "name": "ipython",
    "version": 2
   },
   "file_extension": ".py",
   "mimetype": "text/x-python",
   "name": "python",
   "nbconvert_exporter": "python",
   "pygments_lexer": "ipython2",
   "version": "2.7.15"
  }
 },
 "nbformat": 4,
 "nbformat_minor": 2
}
